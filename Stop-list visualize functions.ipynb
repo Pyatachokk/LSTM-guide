{
 "cells": [
  {
   "cell_type": "code",
   "execution_count": 1,
   "metadata": {},
   "outputs": [],
   "source": [
    "num_layers = [1, 2, 5, 10, 15, 20, 30, 50, 75, 100, 125]\n",
    "num_hidden = [1, 2, 5, 10, 15, 20, 30, 50, 75, 100, 125]\n",
    "param_list = [(x, y) for x in num_layers for y in num_hidden]\n",
    "\n",
    "def hidden_plot(param_list, stop_list):\n",
    "    fig = plt.figure(figsize = [15, 10])\n",
    "    axes = fig.add_axes([0.1, 0.1, 0.8, 0.8])\n",
    "    for i in range(int(len(stop_list) / (len(param_list))**(1/2))):\n",
    "        axes.plot(num_hidden, stop_list[int(i*len(stop_list) / (len(param_list))**(1/2)):\\\n",
    "                                        int((i+1)*len(stop_list) / (len(param_list))**(1/2))], label = num_layers[i])\n",
    "        axes.legend(loc = 1, fontsize = 18)\n",
    "        axes.set_xlabel(\"Hidden layes size\")\n",
    "        axes.set_ylabel('Number of iterations')\n",
    "        axes.set_title('Dependence on hidden size change')\n",
    "    fig.savefig(\"Hidden.pdf\", dpi=200)\n",
    "\n",
    "def reshape_list(list):\n",
    "    new_list = []\n",
    "    for i in range(int(len(list)**(1/2))):\n",
    "        indeces = np.arange(i, len(list), int(len(list)**(1/2)))\n",
    "        for index in indeces:\n",
    "            new_list.append(list[index])\n",
    "    return new_list\n",
    "\n",
    "def layer_plot(param_list, stop_list):\n",
    "    fig = plt.figure(figsize = [15, 10])\n",
    "    axes = fig.add_axes([0.1, 0.1, 0.8, 0.8])\n",
    "    for i in range(int(len(stop_list) / (len(param_list))**(1/2))):\n",
    "        axes.plot(num_layers, reshape_list(stop_list)[int(i*len(stop_list) / (len(param_list))**(1/2)):\\\n",
    "                                                      int((i+1)*len(stop_list) / (len(param_list))**(1/2))], label = num_hidden[i])\n",
    "        axes.legend(loc = 1, fontsize = 18)\n",
    "        axes.set_xlabel('Number of layers')\n",
    "        axes.set_ylabel('Number of iterations')\n",
    "        axes.set_title('Dependence on number of layers change')\n",
    "    fig.savefig(\"Layes.pdf\", dpi=200)"
   ]
  }
 ],
 "metadata": {
  "kernelspec": {
   "display_name": "Python 3",
   "language": "python",
   "name": "python3"
  },
  "language_info": {
   "codemirror_mode": {
    "name": "ipython",
    "version": 3
   },
   "file_extension": ".py",
   "mimetype": "text/x-python",
   "name": "python",
   "nbconvert_exporter": "python",
   "pygments_lexer": "ipython3",
   "version": "3.5.5"
  }
 },
 "nbformat": 4,
 "nbformat_minor": 2
}
