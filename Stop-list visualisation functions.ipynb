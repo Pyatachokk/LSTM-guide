{
 "cells": [
  {
   "cell_type": "code",
   "execution_count": 1,
   "metadata": {},
   "outputs": [],
   "source": [
    "def hidden_plot(param_list, stop_list, name):\n",
    "    fig = plt.figure(figsize = [20, 10], facecolor = 'green')\n",
    "    axes = fig.add_axes([0.1, 0.1, 0.8, 0.8])\n",
    "    for i in range(int(len(stop_list)/ len(num_hidden))):\n",
    "        print(len(num_hidden) * i, len(num_hidden) * (i + 1))\n",
    "        axes.plot(num_hidden, stop_list[len(num_hidden) * i: len(num_hidden) * (i + 1)], label = num_layers[i])\n",
    "    axes.legend(loc = 1, fontsize = 18)\n",
    "    axes.set_xlabel(\"Hidden layes size\")\n",
    "    axes.set_ylabel('Number of iterations')\n",
    "    axes.set_title('Dependence on hidden size change')\n",
    "    plt.show()\n",
    "    fig.savefig(name, dpi=200)\n",
    "\n",
    "def reshape_list(list):\n",
    "    new_list = []\n",
    "    for i in range(int(len(list)**(1/2))):\n",
    "        indeces = np.arange(i, len(list), int(len(list)**(1/2)))\n",
    "        for index in indeces:\n",
    "            new_list.append(list[index])\n",
    "    return new_list\n",
    "\n",
    "def layer_plot(param_list, stop_list, name):\n",
    "    fig = plt.figure(figsize = [15, 10])\n",
    "    axes = fig.add_axes([0.1, 0.1, 0.8, 0.8])\n",
    "    for i in range(int(len(stop_list)/ len(num_layers))):\n",
    "        axes.plot(num_layers, stop_list[len(num_layers) * i: len(num_layers) * (i + 1)], label = num_hidden[i])\n",
    "    axes.legend(loc = 1, fontsize = 18)\n",
    "    axes.set_xlabel('Number of layers')\n",
    "    axes.set_ylabel('Number of iterations')\n",
    "    axes.set_title('Dependence on number of layers change')\n",
    "    plt.show()\n",
    "    fig.savefig(name, dpi=200)\n",
    "\n"
   ]
  }
 ],
 "metadata": {
  "kernelspec": {
   "display_name": "Python 3",
   "language": "python",
   "name": "python3"
  },
  "language_info": {
   "codemirror_mode": {
    "name": "ipython",
    "version": 3
   },
   "file_extension": ".py",
   "mimetype": "text/x-python",
   "name": "python",
   "nbconvert_exporter": "python",
   "pygments_lexer": "ipython3",
   "version": "3.6.5"
  }
 },
 "nbformat": 4,
 "nbformat_minor": 2
}
